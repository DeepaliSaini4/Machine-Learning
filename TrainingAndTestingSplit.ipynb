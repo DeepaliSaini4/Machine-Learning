{
  "nbformat": 4,
  "nbformat_minor": 0,
  "metadata": {
    "colab": {
      "provenance": [],
      "authorship_tag": "ABX9TyOi1jhiK4QFCpRxkgXzyGSA",
      "include_colab_link": true
    },
    "kernelspec": {
      "name": "python3",
      "display_name": "Python 3"
    },
    "language_info": {
      "name": "python"
    }
  },
  "cells": [
    {
      "cell_type": "markdown",
      "metadata": {
        "id": "view-in-github",
        "colab_type": "text"
      },
      "source": [
        "<a href=\"https://colab.research.google.com/github/DeepaliSaini4/Machine-Learning/blob/main/TrainingAndTestingSplit.ipynb\" target=\"_parent\"><img src=\"https://colab.research.google.com/assets/colab-badge.svg\" alt=\"Open In Colab\"/></a>"
      ]
    },
    {
      "cell_type": "code",
      "execution_count": 17,
      "metadata": {
        "colab": {
          "base_uri": "https://localhost:8080/"
        },
        "id": "CgqvVwdJVpks",
        "outputId": "fb26431e-9207-4f11-d2d2-24c3b7fbf0b4"
      },
      "outputs": [
        {
          "output_type": "stream",
          "name": "stdout",
          "text": [
            "Original Dataset:\n",
            "Total samples: 150\n",
            "Class distribution:\n",
            "species\n",
            "0    50\n",
            "1    50\n",
            "2    50\n",
            "Name: count, dtype: int64\n",
            "\n",
            "After Train-Test Split:\n",
            "Training samples: 120 (80%)\n",
            "Testing samples: 30 (20%)\n",
            "\n",
            "Training class distribution:\n",
            " species\n",
            "0    40\n",
            "2    40\n",
            "1    40\n",
            "Name: count, dtype: int64\n",
            "Testing class distribution:\n",
            " species\n",
            "0    10\n",
            "2    10\n",
            "1    10\n",
            "Name: count, dtype: int64\n",
            "\n",
            "Model Training Accuracy: 100.00%\n",
            "Model Testing Accuracy: 93.33%\n"
          ]
        }
      ],
      "source": [
        "# Import libraries\n",
        "import pandas as pd\n",
        "from sklearn.datasets import load_iris\n",
        "from sklearn.model_selection import train_test_split\n",
        "from sklearn.tree import DecisionTreeClassifier\n",
        "from sklearn.metrics import accuracy_score\n",
        "\n",
        "# Load dataset\n",
        "iris = load_iris()\n",
        "X = pd.DataFrame(iris.data, columns=iris.feature_names)\n",
        "y = pd.Series(iris.target, name='species')\n",
        "\n",
        "# Display original data\n",
        "print(\"Original Dataset:\")\n",
        "print(f\"Total samples: {X.shape[0]}\")\n",
        "print(f\"Class distribution:\\n{y.value_counts()}\")\n",
        "\n",
        "# Split data (80% train, 20% test)\n",
        "X_train, X_test, y_train, y_test = train_test_split(\n",
        "    X, y,\n",
        "    test_size=0.2,\n",
        "    random_state=42,\n",
        "    stratify=y  # Preserve class ratios\n",
        ")\n",
        "\n",
        "# Verify split\n",
        "print(\"\\nAfter Train-Test Split:\")\n",
        "print(f\"Training samples: {X_train.shape[0]} ({len(y_train)/len(y):.0%})\")\n",
        "print(f\"Testing samples: {X_test.shape[0]} ({len(y_test)/len(y):.0%})\")\n",
        "print(\"\\nTraining class distribution:\\n\", y_train.value_counts())\n",
        "print(\"Testing class distribution:\\n\", y_test.value_counts())\n",
        "\n",
        "# Train/test a simple model\n",
        "model = DecisionTreeClassifier(random_state=42)\n",
        "model.fit(X_train, y_train)\n",
        "train_acc = accuracy_score(y_train, model.predict(X_train))\n",
        "test_acc = accuracy_score(y_test, model.predict(X_test))\n",
        "\n",
        "print(f\"\\nModel Training Accuracy: {train_acc:.2%}\")\n",
        "print(f\"Model Testing Accuracy: {test_acc:.2%}\")\n",
        "\n"
      ]
    }
  ]
}